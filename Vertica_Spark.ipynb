{
 "cells": [
  {
   "cell_type": "code",
   "execution_count": null,
   "metadata": {
    "collapsed": false
   },
   "outputs": [],
   "source": [
    "# Install vertica driver\n",
    "# There are different options here\n",
    "\n",
    "# Formal native HP driver - Didn't support BULK LOAD\n",
    "# pip install /opt/vertica/Python/vertica-db-client-8.1.1.0-cp27-none-linux_x86_64.whl\n",
    "\n",
    "# ODBC Driver\n",
    "# pip install pyodbc\n",
    "\n",
    "# Native python driver - Mantained by UBER\n",
    "!pip install vertica_python\n",
    "\n"
   ]
  },
  {
   "cell_type": "markdown",
   "metadata": {},
   "source": [
    "# BULK LOAD IN VERTICA"
   ]
  },
  {
   "cell_type": "code",
   "execution_count": null,
   "metadata": {
    "collapsed": false
   },
   "outputs": [],
   "source": [
    "# Load CSV in Vertica\n",
    "import csv\n",
    "\n",
    "# Check file\n",
    "with open(\"/home/datascience/data/Uber-Jan-Feb-FOIL.csv\", \"rb\") as fs:\n",
    "    reader = csv.reader(fs)\n",
    "    headers = reader.next()\n",
    "    data = reader.next()\n",
    "print(headers)\n",
    "print(data)\n"
   ]
  },
  {
   "cell_type": "code",
   "execution_count": null,
   "metadata": {
    "collapsed": false
   },
   "outputs": [],
   "source": [
    "import vertica_python\n",
    "\n",
    "conn_info = {'host': '127.0.0.1',\n",
    "             'port': 5433,\n",
    "             'user': 'dbadmin',\n",
    "             'password': '',\n",
    "             'database': 'docker',\n",
    "             # 10 minutes timeout on queries\n",
    "             'read_timeout': 600,\n",
    "             # default throw error on invalid UTF-8 results\n",
    "             'unicode_error': 'strict',\n",
    "             # SSL is disabled by default\n",
    "             'ssl': False,\n",
    "             # connection timeout is not enabled by default\n",
    "             'connection_timeout': 5             \n",
    "            }\n",
    "\n",
    "# Connect to Vertica\n",
    "db = vertica_python.connect(**conn_info)\n",
    "\n",
    "# Create table\n",
    "cur = db.cursor()\n",
    "cur.execute(\"DROP TABLE IF EXISTS Uber_Users\")\n",
    "# For simplicity we assume all columns are varchar\n",
    "cur.execute(\"CREATE TABLE Uber_Users (\" + \", \".join([col_name + \" varchar\" for col_name in headers]) + \")\")\n",
    "\n",
    "# Load Data\n",
    "with open(\"/home/datascience/data/Uber-Jan-Feb-FOIL.csv\", \"rb\") as fs:\n",
    "    # Skip first row (contains the header)\n",
    "    cur.copy(\"COPY Uber_Users FROM STDIN DELIMITER ','  SKIP 1\", fs)\n",
    "\n",
    "# Commit and close\n",
    "db.commit()\n",
    "db.close()"
   ]
  },
  {
   "cell_type": "markdown",
   "metadata": {},
   "source": [
    "# Load data from Vertica"
   ]
  },
  {
   "cell_type": "code",
   "execution_count": null,
   "metadata": {
    "collapsed": false,
    "scrolled": true
   },
   "outputs": [],
   "source": [
    "import vertica_python\n",
    "import pandas as pd\n",
    "\n",
    "conn_info = {'host': '127.0.0.1',\n",
    "             'port': 5433,\n",
    "             'user': 'dbadmin',\n",
    "             'password': '',\n",
    "             'database': 'docker',\n",
    "             # 10 minutes timeout on queries\n",
    "             'read_timeout': 600,\n",
    "             # default throw error on invalid UTF-8 results\n",
    "             'unicode_error': 'strict',\n",
    "             # SSL is disabled by default\n",
    "             'ssl': False,\n",
    "             # connection timeout is not enabled by default\n",
    "             'connection_timeout': 5             \n",
    "            }\n",
    "\n",
    "# Connect to Vertica\n",
    "db = vertica_python.connect(**conn_info)\n",
    "\n",
    "cur = db.cursor() # Return results as list\n",
    "# cur = db.cursor('dict') # Return results as dictionary\n",
    "cur.execute(\"SELECT * FROM Uber_Users;\") # Run query\n",
    "uber_data = cur.fetchall() # Collect results\n",
    "\n",
    "uber_cols = [column[0] for column in cur.description] # Get columns name\n",
    "\n",
    "print(uber_cols)\n",
    "print(uber_data[0:10])"
   ]
  },
  {
   "cell_type": "code",
   "execution_count": null,
   "metadata": {
    "collapsed": false
   },
   "outputs": [],
   "source": [
    "# Alternatively you can load data with Pandas\n",
    "\n",
    "import vertica_python\n",
    "import pandas as pd\n",
    "\n",
    "conn_info = {'host': '127.0.0.1',\n",
    "             'port': 5433,\n",
    "             'user': 'dbadmin',\n",
    "             'password': '',\n",
    "             'database': 'docker',\n",
    "             # 10 minutes timeout on queries\n",
    "             'read_timeout': 600,\n",
    "             # default throw error on invalid UTF-8 results\n",
    "             'unicode_error': 'strict',\n",
    "             # SSL is disabled by default\n",
    "             'ssl': False,\n",
    "             # connection timeout is not enabled by default\n",
    "             'connection_timeout': 5             \n",
    "            }\n",
    "\n",
    "# Connect to Vertica\n",
    "db = vertica_python.connect(**conn_info)\n",
    "\n",
    "uber_data = pd.read_sql(\"SELECT * FROM Uber_Users;\", db)\n",
    "uber_data"
   ]
  },
  {
   "cell_type": "markdown",
   "metadata": {},
   "source": [
    "# Load Data in SPARK"
   ]
  },
  {
   "cell_type": "code",
   "execution_count": null,
   "metadata": {
    "collapsed": false
   },
   "outputs": [],
   "source": [
    "import pyspark\n",
    "from pyspark.sql import SQLContext\n",
    "\n",
    "sc = pyspark.SparkContext()\n",
    "sqlContext = SQLContext(sc)\n",
    "\n",
    "opts={}\n",
    "opts['table']='Uber_Users'\n",
    "opts['db']='docker'\n",
    "opts['user']='dbadmin'\n",
    "opts['password']=''\n",
    "opts['host']='127.0.0.1'\n",
    "\n",
    "uber_data = sqlContext.read.load(format=\"com.vertica.spark.datasource.DefaultSource\", **opts)\n"
   ]
  },
  {
   "cell_type": "code",
   "execution_count": null,
   "metadata": {
    "collapsed": false
   },
   "outputs": [],
   "source": [
    "uber_data.show()"
   ]
  }
 ],
 "metadata": {
  "kernelspec": {
   "display_name": "Python 2",
   "language": "python",
   "name": "python2"
  },
  "language_info": {
   "codemirror_mode": {
    "name": "ipython",
    "version": 2
   },
   "file_extension": ".py",
   "mimetype": "text/x-python",
   "name": "python",
   "nbconvert_exporter": "python",
   "pygments_lexer": "ipython2",
   "version": "2.7.13"
  }
 },
 "nbformat": 4,
 "nbformat_minor": 2
}
